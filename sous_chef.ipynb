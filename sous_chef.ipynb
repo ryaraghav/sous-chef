{
 "cells": [
  {
   "cell_type": "markdown",
   "metadata": {},
   "source": [
    "**Step 1: Install necessary packages**\n"
   ]
  },
  {
   "cell_type": "code",
   "execution_count": 2,
   "metadata": {},
   "outputs": [],
   "source": [
    "#Loading the environment\n",
    "from dotenv import load_dotenv\n",
    "import os\n",
    "\n",
    "#For setting up agents\n",
    "from phi.agent import Agent, RunResponse\n",
    "from phi.model.openai import OpenAIChat\n",
    "from phi.tools.exa import ExaTools\n",
    "from phi.tools.newspaper4k import Newspaper4k\n",
    "\n",
    "#For step 2: extracting regex\n",
    "import re\n",
    "\n",
    "#For step 3: Storing agent output\n",
    "import json\n",
    "\n",
    "#For step 4: Sending email\n",
    "import smtplib\n",
    "from email.mime.text import MIMEText\n",
    "from email.mime.multipart import MIMEMultipart\n",
    "from datetime import datetime\n",
    "\n",
    "\n",
    "load_dotenv()\n",
    "openai_api_key = os.getenv(\"OPENAI_API_KEY\")"
   ]
  },
  {
   "cell_type": "markdown",
   "metadata": {},
   "source": [
    "**Step 2: Curate recipes from a specific website with criteria**\n"
   ]
  },
  {
   "cell_type": "code",
   "execution_count": 9,
   "metadata": {},
   "outputs": [],
   "source": [
    "user_query = \"Help me find vegan stir fry for kids. Absolutely no nuts.\""
   ]
  },
  {
   "cell_type": "code",
   "execution_count": 10,
   "metadata": {},
   "outputs": [
    {
     "data": {
      "text/html": [
       "<pre style=\"white-space:pre;overflow-x:auto;line-height:normal;font-family:Menlo,'DejaVu Sans Mono',consolas,'Courier New',monospace\"><span style=\"color: #000080; text-decoration-color: #000080\">INFO    </span> Searching exa for: nut-free vegan stir fry recipe for kids                                                \n",
       "</pre>\n"
      ],
      "text/plain": [
       "\u001b[34mINFO    \u001b[0m Searching exa for: nut-free vegan stir fry recipe for kids                                                \n"
      ]
     },
     "metadata": {},
     "output_type": "display_data"
    },
    {
     "data": {
      "text/html": [
       "<pre style=\"white-space:pre;overflow-x:auto;line-height:normal;font-family:Menlo,'DejaVu Sans Mono',consolas,'Courier New',monospace\"><span style=\"color: #000080; text-decoration-color: #000080\">INFO    </span> Searching exa for: child-friendly vegan stir fry nut-free                                                 \n",
       "</pre>\n"
      ],
      "text/plain": [
       "\u001b[34mINFO    \u001b[0m Searching exa for: child-friendly vegan stir fry nut-free                                                 \n"
      ]
     },
     "metadata": {},
     "output_type": "display_data"
    }
   ],
   "source": [
    "curator_agent = Agent(\n",
    "    description=\"you help user meal prep\",\n",
    "    name=\"Dabbawala\",\n",
    "    model=OpenAIChat(id=\"gpt-4o\", api_key=openai_api_key),\n",
    "    instructions=[\n",
    "        \"You are a highly knowledgeable meal prep planning.\",\n",
    "        \"Your goal is to help the user identify recipes that satisfy dietary restrictions, preferences, and ingredient availability..\",\n",
    "        \"Provide a short summary of each recipe recommended.\",\n",
    "        \"Offer up to 5 recipes for each request, ensuring they are diverse and relevant.\",\n",
    "        \"Leverage online resources like rainbowplantlife.com and minimalistbaker.com for accurate and varied suggestions. But feel free to search the entire internet\",\n",
    "        \"Focus on being concise, relevant, and thoughtful in your recommendations.\",\n",
    "        \"Recipes must be nut-free. There must also be some gluten-free options\"\n",
    "        \"Always include sources\"\n",
    "    ],\n",
    "    tools=[ExaTools()],\n",
    ")\n",
    "response: RunResponse = curator_agent.run(user_query)"
   ]
  },
  {
   "cell_type": "code",
   "execution_count": 11,
   "metadata": {},
   "outputs": [
    {
     "name": "stdout",
     "output_type": "stream",
     "text": [
      "Here are some nut-free vegan stir fry recipes perfect for kids:\n",
      "\n",
      "1. **Rainbow Stir-Fry**:\n",
      "   A colorful and easy-to-make stir fry featuring a variety of vegetables. It's a great way to get kids to eat veggies, as the vibrant colors often make it more appealing. [Source](https://blog.fatfreevegan.com/2006/12/rainbow-stir-fry.html)\n",
      "\n",
      "2. **Easy Vegetable Stir Fry**:\n",
      "   A versatile stir fry recipe that allows you to use any vegetables you have on hand. It's healthy, quick to make, and can be served either warm or cold. [Source](https://snotty-noses.com/blog/vegetable-stir-fry-quick-healthy-meal-kids-will-love)\n",
      "\n",
      "3. **30 Min Healthy Chinese Vegetable Stir-fry**:\n",
      "   A quick and clean recipe that uses organic ingredients and offers a gluten-free and soy-free option. It's packed with a variety of vegetables and can be served over rice. [Source](https://flexitariannutrition.com/meatless-monday-30-min-healthy-chinese-vegetable-stir-fry-vegan-soy-free-option-gluten-freepaleo/)\n",
      "\n",
      "4. **Soy-free Tofu Stir Fry with Sunbutter Sauce**:\n",
      "   Using chickpea tofu, this dish is both soy-free and nut-free. It features a sunbutter sauce, making it a great allergy-friendly option. Perfect for serving over grains or noodles. [Source](https://www.veganricha.com/soy-free-tofu-stir-fry-with-sunbutter-sauce/)\n",
      "\n",
      "These recipes offer various flavors and ingredients to suit kids’ tastes while keeping meals healthy and nut-free.\n"
     ]
    }
   ],
   "source": [
    "print(response.content)"
   ]
  },
  {
   "cell_type": "markdown",
   "metadata": {},
   "source": [
    "**Step 3: Extract URLs from the agent's recommendations**\n"
   ]
  },
  {
   "cell_type": "code",
   "execution_count": 12,
   "metadata": {},
   "outputs": [],
   "source": [
    "url_pattern = r'https?://[^\\)\\s]+'\n",
    "urls = re.findall(url_pattern, response.content)"
   ]
  },
  {
   "cell_type": "markdown",
   "metadata": {},
   "source": [
    "**Step 4: Extract ingredient lists from URLs**"
   ]
  },
  {
   "cell_type": "code",
   "execution_count": 13,
   "metadata": {},
   "outputs": [],
   "source": [
    "recipe_ingredients = {}\n",
    "ingredient_agent = Agent(tools=[Newspaper4k()], debug_mode=False, show_tool_calls=False)\n",
    "\n",
    "for url in urls:\n",
    "    #print(f\"Processing: {url}\")\n",
    "    query = f\"Extract ingredient list from {url}. Make sure to not miss any ingredient and be exhaustive.\"\n",
    "    response = ingredient_agent.run(query)\n",
    "    recipe_ingredients[url] = response.content\n",
    "\n",
    "# Save ingredients to a JSON file\n",
    "with open('recipe_ingredients.json', 'w') as f:\n",
    "    json.dump(recipe_ingredients, f, indent=4)"
   ]
  },
  {
   "cell_type": "markdown",
   "metadata": {},
   "source": [
    "**Step 5: Send recipes via email**\n"
   ]
  },
  {
   "cell_type": "code",
   "execution_count": 14,
   "metadata": {},
   "outputs": [
    {
     "name": "stdout",
     "output_type": "stream",
     "text": [
      "Email sent successfully!\n"
     ]
    }
   ],
   "source": [
    "# Email configuration\n",
    "sender_email = os.getenv(\"SENDER_EMAIL\")\n",
    "sender_password = os.getenv(\"SENDER_APP_PASSWORD\")  # Use app password for Gmail\n",
    "receiver_email = os.getenv(\"RECEIVER_EMAIL\")\n",
    "\n",
    "# Read JSON data\n",
    "with open('recipe_ingredients.json', 'r') as f:\n",
    "    recipe_data = json.load(f)\n",
    "\n",
    "# Create email content\n",
    "def create_email_content():\n",
    "    html_content = f\"\"\"\n",
    "    <html>\n",
    "        <body>\n",
    "            <h2>Sous Chef Recommendations - {datetime.now().strftime('%Y-%m-%d')}</h2>\n",
    "    \"\"\"\n",
    "    for url, ingredients in recipe_data.items():\n",
    "        html_content += f\"\"\"\n",
    "            <div style=\"margin-bottom: 30px;\">\n",
    "                <h3><a href=\"{url}\">Recipe Link</a></h3>\n",
    "                <div style=\"margin-left: 20px;\">\n",
    "                    {ingredients.replace('\\n', '<br>')}\n",
    "                </div>\n",
    "            </div>\n",
    "        \"\"\"\n",
    "    html_content += \"</body></html>\"\n",
    "    return html_content\n",
    "\n",
    "# Send the email\n",
    "def send_email():\n",
    "    if not sender_email or not sender_password or not receiver_email:\n",
    "        raise ValueError(\"Missing required environment variables. Please set SENDER_EMAIL, SENDER_APP_PASSWORD, and RECEIVER_EMAIL.\")\n",
    "\n",
    "    msg = MIMEMultipart('alternative')\n",
    "    msg['Subject'] = f\"Sous Chef Recommends - {datetime.now().strftime('%Y-%m-%d')}\"\n",
    "    msg['From'] = sender_email\n",
    "    msg['To'] = receiver_email\n",
    "\n",
    "    html_content = create_email_content()\n",
    "    msg.attach(MIMEText(html_content, 'html'))\n",
    "\n",
    "    try:\n",
    "        with smtplib.SMTP('smtp.gmail.com', 587) as smtp_server:\n",
    "            smtp_server.starttls()\n",
    "            smtp_server.login(sender_email, sender_password)\n",
    "            smtp_server.sendmail(sender_email, receiver_email, msg.as_string())\n",
    "        print(\"Email sent successfully!\")\n",
    "    except smtplib.SMTPAuthenticationError as e:\n",
    "        print(f\"Authentication failed. Error: {e}\")\n",
    "    except Exception as e:\n",
    "        print(f\"Error sending email: {e}\")\n",
    "\n",
    "send_email()\n"
   ]
  }
 ],
 "metadata": {
  "kernelspec": {
   "display_name": "myvenv#",
   "language": "python",
   "name": "python3"
  },
  "language_info": {
   "codemirror_mode": {
    "name": "ipython",
    "version": 3
   },
   "file_extension": ".py",
   "mimetype": "text/x-python",
   "name": "python",
   "nbconvert_exporter": "python",
   "pygments_lexer": "ipython3",
   "version": "3.12.5"
  }
 },
 "nbformat": 4,
 "nbformat_minor": 2
}
